{
  "cells": [
    {
      "cell_type": "code",
      "execution_count": 48,
      "id": "f83cdecc",
      "metadata": {
        "id": "f83cdecc"
      },
      "outputs": [],
      "source": [
        "import pandas as pd\n",
        "import numpy as np\n",
        "import seaborn as sns\n",
        "import matplotlib.pyplot as plt\n",
        "sns.set_theme(style='white', palette='bright')\n",
        "plt.rcParams[\"figure.figsize\"] = [7,5]\n",
        "import pandas_datareader as pdr\n",
        "from scipy.optimize import minimize\n",
        "import yfinance as yf"
      ]
    },
    {
      "cell_type": "code",
      "execution_count": 49,
      "id": "6298d2b2",
      "metadata": {
        "id": "6298d2b2"
      },
      "outputs": [],
      "source": [
        "# define market parameters\n",
        "\n",
        "tickers = ['SPY','TLT','DJP','VTV','MTUM']\n",
        "start = '2015-09-30'\n",
        "end = '2022-09-30'"
      ]
    },
    {
      "cell_type": "code",
      "execution_count": 50,
      "id": "02ffefab",
      "metadata": {
        "collapsed": true,
        "id": "02ffefab"
      },
      "outputs": [],
      "source": [
        "# # create dataframe of prices (uses Yahoo Finance adjusted closing prices)\n",
        "# This code cell is outdated\n",
        "# data_raw = pdr.data.DataReader(tickers,'yahoo',start,end)\n",
        "# data_raw = data_raw.loc[:,'Adj Close']"
      ]
    },
    {
      "cell_type": "code",
      "execution_count": 51,
      "id": "Bl5u-ABKgGR8",
      "metadata": {
        "colab": {
          "base_uri": "https://localhost:8080/"
        },
        "id": "Bl5u-ABKgGR8",
        "outputId": "bb8b2b8d-51f9-45be-bd34-adf985fc4e38"
      },
      "outputs": [
        {
          "name": "stdout",
          "output_type": "stream",
          "text": [
            "[*********************100%***********************]  1 of 1 completed\n",
            "[*********************100%***********************]  1 of 1 completed\n",
            "[*********************100%***********************]  1 of 1 completed\n",
            "[*********************100%***********************]  1 of 1 completed\n",
            "[*********************100%***********************]  1 of 1 completed\n"
          ]
        }
      ],
      "source": [
        "data_raw = pd.DataFrame()\n",
        "for ticker in tickers:\n",
        "    data = yf.download(ticker, start=start, end=end)['Adj Close']\n",
        "    data_raw[ticker] = data\n",
        "\n",
        "# data_raw = yf.download(tickers, start=start, end=end)['Adj Close']"
      ]
    },
    {
      "cell_type": "code",
      "execution_count": 52,
      "id": "b2ace570",
      "metadata": {
        "colab": {
          "base_uri": "https://localhost:8080/"
        },
        "id": "b2ace570",
        "outputId": "070202d9-cc7e-4ba5-f4b1-d74d7280b2b6"
      },
      "outputs": [],
      "source": [
        "# create dataframe of returns\n",
        "\n",
        "returns_raw = data_raw.pct_change(periods=1).dropna()\n",
        "returns_m = returns_raw.copy().resample('BM').apply(lambda x: (1+x).prod() - 1)\n"
      ]
    },
    {
      "cell_type": "code",
      "execution_count": 53,
      "id": "422182f0",
      "metadata": {
        "id": "422182f0"
      },
      "outputs": [],
      "source": [
        "# create function to get risk contributions\n",
        "\n",
        "\n",
        "def get_risk_contribution(weights, cov):\n",
        "\n",
        "    portfolio_variance = np.dot(np.dot(cov,weights), weights.T)\n",
        "    risk_contribution = (np.dot(cov,weights)*weights.T) / portfolio_variance\n",
        "\n",
        "    return risk_contribution"
      ]
    },
    {
      "cell_type": "code",
      "execution_count": 54,
      "id": "164fc654",
      "metadata": {
        "id": "164fc654"
      },
      "outputs": [
        {
          "ename": "IndentationError",
          "evalue": "expected an indented block (1958702576.py, line 6)",
          "output_type": "error",
          "traceback": [
            "\u001b[0;36m  Input \u001b[0;32mIn [54]\u001b[0;36m\u001b[0m\n\u001b[0;31m    '''\u001b[0m\n\u001b[0m    ^\u001b[0m\n\u001b[0;31mIndentationError\u001b[0m\u001b[0;31m:\u001b[0m expected an indented block\n"
          ]
        }
      ],
      "source": [
        "# create functions to solve for risk parity weights\n",
        "\n",
        "\n",
        "\n",
        "def target_risk_contributions(target_risk, cov):\n",
        "'''\n",
        "finds the min variance portfolio with target risk\n",
        "'''\n",
        "    n = cov.shape[0]\n",
        "    init_guess = np.repeat(1/n, n)\n",
        "    bounds = ((0.0, 1.0), ) * n\n",
        "    normalize_weights = {'type':'eq',\n",
        "                        'fun':lambda weights: np.sum(weights) - 1}\n",
        "\n",
        "\n",
        "    def msd_risk(weights, target_risk, cov):\n",
        "\n",
        "        w0 = get_risk_contribution(weights, cov)\n",
        "        return ((w0 - target_risk)**2).sum()\n",
        "\n",
        "\n",
        "    weights = minimize(msd_risk, init_guess,\n",
        "                       args=(target_risk,cov), method='SLSQP',\n",
        "                       options = {'disp': False},\n",
        "                       constraints=(normalize_weights,),\n",
        "                       bounds=bounds)\n",
        "    return weights.x\n",
        "\n",
        "\n",
        "def equal_risk_contributions(cov):\n",
        "\n",
        "    n=cov.shape[0]\n",
        "    return target_risk_contributions(target_risk=np.repeat(1/n,n),cov=cov)"
      ]
    },
    {
      "cell_type": "code",
      "execution_count": 9,
      "id": "37698dec",
      "metadata": {
        "id": "37698dec"
      },
      "outputs": [],
      "source": [
        "# create equal weight portfolio of factor ETFs\n",
        "\n",
        "factor_equities = np.sum(np.repeat(1/2,2) * returns_raw.loc[:,'VTV':],axis=1) #daily\n",
        "factor_equities_m = np.sum(np.repeat(1/2,2) * returns_m.loc[:,'VTV':],axis=1) #monthly"
      ]
    },
    {
      "cell_type": "code",
      "execution_count": 10,
      "id": "995a548c",
      "metadata": {
        "id": "995a548c"
      },
      "outputs": [],
      "source": [
        "# sub dataframes for analysis\n",
        "\n",
        "\n",
        "# dataframes containing asset ETF returns daily (raw) and monthly (m)\n",
        "returns_raw_assets = returns_raw.loc[:,:'DJP']\n",
        "returns_m_assets = returns_m.loc[:,:'DJP']\n",
        "\n",
        "\n",
        "# dataframes containing factor ETF returns daily (raw) and monthly (m)\n",
        "returns_raw_factors = pd.DataFrame({'Factor Equities':factor_equities, 'TLT':returns_raw['TLT'], 'DJP':returns_raw['DJP']})\n",
        "returns_m_factors = pd.DataFrame({'Factor Equities':factor_equities_m, 'TLT':returns_m['TLT'], 'DJP':returns_m['DJP']})"
      ]
    },
    {
      "cell_type": "code",
      "execution_count": 11,
      "id": "dd9b1694",
      "metadata": {
        "id": "dd9b1694"
      },
      "outputs": [],
      "source": [
        "# calculate weights for risk parity portfolios (asset ETFs)\n",
        "# uses trailing 252 days for vol calculations at each month end\n",
        "\n",
        "\n",
        "rp_assets_weights = np.zeros((len(returns_raw),3))\n",
        "risk_assets_contributions = np.zeros((len(returns_raw),3))\n",
        "\n",
        "for i in range(len(returns_raw)):\n",
        "    if returns_raw.index[i] in (returns_m.index):\n",
        "        rp_assets_weights[i,:] = equal_risk_contributions(returns_raw_assets[i:252+i].cov())\n",
        "        risk_assets_contributions[i,:] = get_risk_contribution(equal_risk_contributions(returns_raw_assets[i:252+i].cov()),returns_raw_assets[i:252+i].cov())"
      ]
    },
    {
      "cell_type": "code",
      "execution_count": 12,
      "id": "451d4f87",
      "metadata": {
        "id": "451d4f87"
      },
      "outputs": [],
      "source": [
        "# calculate weights for risk parity portfolios (factor ETFs)\n",
        "# uses trailing 252 days for vol calculations at each month end\n",
        "\n",
        "\n",
        "\n",
        "rp_factor_weights = np.zeros((len(returns_raw),3))\n",
        "risk_factor_contributions = np.zeros((len(returns_raw),3))\n",
        "\n",
        "for i in range(len(returns_raw)):\n",
        "    if returns_raw.index[i] in (returns_m.index):\n",
        "        rp_factor_weights[i,:] = equal_risk_contributions(returns_raw_factors[i:252+i].cov())\n",
        "        risk_factor_contributions[i,:] = get_risk_contribution(equal_risk_contributions(returns_raw_factors[i:252+i].cov()),returns_raw_factors[i:252+i].cov())"
      ]
    },
    {
      "cell_type": "code",
      "execution_count": 13,
      "id": "7e9fe36a",
      "metadata": {
        "id": "7e9fe36a"
      },
      "outputs": [],
      "source": [
        "# remove times when weights are 0\n",
        "\n",
        "rp_assets_weights = rp_assets_weights[~np.all(rp_assets_weights == 0, axis=1)]\n",
        "risk_assets_contributions = risk_assets_contributions[~np.all(risk_assets_contributions == 0, axis=1)]\n",
        "\n",
        "rp_factor_weights = rp_factor_weights[~np.all(rp_factor_weights == 0, axis=1)]\n",
        "risk_factor_contributions = risk_factor_contributions[~np.all(risk_factor_contributions == 0, axis=1)]"
      ]
    },
    {
      "cell_type": "code",
      "execution_count": 37,
      "id": "97a55135",
      "metadata": {},
      "outputs": [
        {
          "data": {
            "text/plain": [
              "((72, 3), (72, 3))"
            ]
          },
          "execution_count": 37,
          "metadata": {},
          "output_type": "execute_result"
        }
      ],
      "source": [
        "rp_assets_weights[:-9].shape,returns_m_assets[12:].shape"
      ]
    },
    {
      "cell_type": "code",
      "execution_count": 39,
      "id": "aca344b7",
      "metadata": {
        "colab": {
          "base_uri": "https://localhost:8080/",
          "height": 391
        },
        "id": "aca344b7",
        "outputId": "837c5260-5e26-4711-cea4-9fd8c3304529"
      },
      "outputs": [],
      "source": [
        "# calculate unlevered portfolio returns\n",
        "\n",
        "\n",
        "rp_assets_port = np.sum(rp_assets_weights[:-9] * returns_m_assets[12:],axis=1) #risk parity (assets) portfolio\n",
        "eq_assets_port = np.sum(np.repeat(1/3,3) * returns_m_assets[12:],axis=1) #equal weight (assets) portfolio\n",
        "rp_factor_port = np.sum(rp_factor_weights[:-9] * returns_m_factors[12:],axis=1) #risk parity (factors) portfolio"
      ]
    },
    {
      "cell_type": "code",
      "execution_count": 40,
      "id": "76f9d31a",
      "metadata": {
        "id": "76f9d31a"
      },
      "outputs": [],
      "source": [
        "# dataframe containing unlevered portfolio returns\n",
        "\n",
        "\n",
        "compare_portfolios = \\\n",
        "pd.DataFrame({'Simple Risk Parity':rp_assets_port,'Factor Risk Parity':rp_factor_port,'Equal Weights':eq_assets_port})"
      ]
    },
    {
      "cell_type": "code",
      "execution_count": 41,
      "id": "2d41f871",
      "metadata": {
        "id": "2d41f871"
      },
      "outputs": [],
      "source": [
        "# calculate leverage based on trailing 12 month vol\n",
        "\n",
        "\n",
        "simple_leverage = (compare_portfolios.iloc[:,-1].rolling(12).var() / compare_portfolios.iloc[:,0].rolling(12).var() - 1).dropna()\n",
        "factor_leverage = (compare_portfolios.iloc[:,-1].rolling(12).var() / compare_portfolios.iloc[:,1].rolling(12).var() - 1).dropna()\n",
        "leverages = pd.DataFrame({'Simple Risk Parity':simple_leverage,'Factor Risk Parity':factor_leverage})"
      ]
    },
    {
      "cell_type": "code",
      "execution_count": 42,
      "id": "2c94eb54",
      "metadata": {
        "id": "2c94eb54"
      },
      "outputs": [],
      "source": [
        "# calculate levered returns\n",
        "\n",
        "\n",
        "simple_rp_levered = compare_portfolios.iloc[11:,0] * np.sqrt(1+simple_leverage)\n",
        "factor_rp_levered = compare_portfolios.iloc[11:,1] * np.sqrt(1+factor_leverage)"
      ]
    },
    {
      "cell_type": "code",
      "execution_count": 43,
      "id": "b8ccc465",
      "metadata": {
        "id": "b8ccc465"
      },
      "outputs": [],
      "source": [
        "# dataframe containing levered portfolio returns\n",
        "\n",
        "\n",
        "\n",
        "compare_levered_portfolios = \\\n",
        "pd.DataFrame({'Simple Risk Parity (levered)': simple_rp_levered,'Factor Risk Parity (levered)': factor_rp_levered, \\\n",
        "              'Equal Weights':eq_assets_port}).dropna()"
      ]
    },
    {
      "cell_type": "code",
      "execution_count": 44,
      "id": "577d936a",
      "metadata": {
        "id": "577d936a"
      },
      "outputs": [],
      "source": [
        "# create wealth indices for performance stats\n",
        "\n",
        "\n",
        "\n",
        "portfolio_indices = compare_levered_portfolios.copy()\n",
        "portfolio_indices.iloc[0,:] = np.repeat(0,3)\n",
        "portfolio_indices = 100*(1+portfolio_indices).cumprod()"
      ]
    },
    {
      "cell_type": "code",
      "execution_count": 45,
      "id": "3d2c5ed1",
      "metadata": {
        "id": "3d2c5ed1",
        "scrolled": false
      },
      "outputs": [],
      "source": [
        "# calculate high-water mark\n",
        "\n",
        "\n",
        "hwm = portfolio_indices.cummax()"
      ]
    },
    {
      "cell_type": "code",
      "execution_count": 46,
      "id": "42c3c80b",
      "metadata": {
        "id": "42c3c80b"
      },
      "outputs": [
        {
          "data": {
            "text/plain": [
              "Simple Risk Parity (levered)   -0.171916\n",
              "Factor Risk Parity (levered)   -0.176153\n",
              "Equal Weights                  -0.162105\n",
              "dtype: float64"
            ]
          },
          "execution_count": 46,
          "metadata": {},
          "output_type": "execute_result"
        }
      ],
      "source": [
        "# calculate drawdowns\n",
        "\n",
        "\n",
        "drawdowns = portfolio_indices/hwm - 1\n",
        "max_drawdown = drawdowns.min()\n",
        "max_drawdown"
      ]
    },
    {
      "cell_type": "code",
      "execution_count": 47,
      "id": "08a31589",
      "metadata": {
        "id": "08a31589"
      },
      "outputs": [
        {
          "data": {
            "text/plain": [
              "Simple Risk Parity (levered)    0.028112\n",
              "Factor Risk Parity (levered)    0.031107\n",
              "dtype: float64"
            ]
          },
          "execution_count": 47,
          "metadata": {},
          "output_type": "execute_result"
        }
      ],
      "source": [
        "# calculate tracking error\n",
        "\n",
        "excess_returns = compare_levered_portfolios.apply(lambda x: x - x[\"Equal Weights\"],axis=1).iloc[1:,:-1]\n",
        "tracking_error = excess_returns.std() * np.sqrt(12)\n",
        "tracking_error"
      ]
    }
  ],
  "metadata": {
    "colab": {
      "provenance": []
    },
    "kernelspec": {
      "display_name": "base",
      "language": "python",
      "name": "python3"
    },
    "language_info": {
      "codemirror_mode": {
        "name": "ipython",
        "version": 3
      },
      "file_extension": ".py",
      "mimetype": "text/x-python",
      "name": "python",
      "nbconvert_exporter": "python",
      "pygments_lexer": "ipython3",
      "version": "3.9.12"
    }
  },
  "nbformat": 4,
  "nbformat_minor": 5
}
